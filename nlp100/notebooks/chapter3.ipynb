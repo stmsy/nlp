{
 "cells": [
  {
   "cell_type": "code",
   "execution_count": 1,
   "metadata": {},
   "outputs": [],
   "source": [
    "from pathlib import Path\n",
    "import warnings\n",
    "\n",
    "import matplotlib.pyplot as plt\n",
    "import numpy as np\n",
    "import pandas as pd\n",
    "import seaborn as sns\n",
    "\n",
    "warnings.filterwarnings('ignore')\n",
    "\n",
    "sns.set()\n",
    "plt.rcParams['font.family'] = 'IPAPGothic'  # TO-DO: Check detail and decide to remove or not\n",
    "%matplotlib inline"
   ]
  },
  {
   "cell_type": "markdown",
   "metadata": {},
   "source": [
    "# 第3章: 正規表現\n",
    "\n",
    "Wikipedia の記事を以下のフォーマットで書き出したファイル [jawiki-country.json.gz](http://www.cl.ecei.tohoku.ac.jp/nlp100/data/jawiki-country.json.gz) がある.\n",
    "\n",
    "- 1行に1記事の情報が JSON 形式で格納される\n",
    "- 各行には記事名が ```\"title\"``` キーに, 記事本文が ```\"text\"``` キーの辞書オブジェクトに格納され, そのオブジェクトが JSON 形式で書き出される\n",
    "- ファイル全体は gzip で圧縮される\n",
    "\n",
    "以下の処理を行うプログラムを作成せよ."
   ]
  },
  {
   "cell_type": "markdown",
   "metadata": {},
   "source": [
    "## 20. JSON データの読み込み\n",
    "\n",
    "Wikipedia 記事の JSON ファイルを読み込み,「イギリス」に関する記事本文を表示せよ. 問題[21](#21.-カテゴリ名を含む行を抽出)-[29](#29.-国旗画像の-URL-を取得する)では, ここで抽出した記事本文に対して実行せよ．"
   ]
  },
  {
   "cell_type": "markdown",
   "metadata": {},
   "source": [
    "## 21. カテゴリ名を含む行を抽出\n",
    "\n",
    "記事中でカテゴリ名を宣言している行を抽出せよ."
   ]
  },
  {
   "cell_type": "markdown",
   "metadata": {},
   "source": [
    "## 22. カテゴリ名の抽出\n",
    "\n",
    "記事のカテゴリ名を（行単位ではなく名前で）抽出せよ."
   ]
  },
  {
   "cell_type": "markdown",
   "metadata": {},
   "source": [
    "## 23. セクション構造\n",
    "\n",
    "記事中に含まれるセクション名とそのレベル（例えば ```\"== セクション名 ==\"``` なら1）を表示せよ．"
   ]
  },
  {
   "cell_type": "markdown",
   "metadata": {},
   "source": [
    "## 24. ファイル参照の抽出\n",
    "\n",
    "記事から参照されているメディアファイルをすべて抜き出せ."
   ]
  },
  {
   "cell_type": "markdown",
   "metadata": {},
   "source": [
    "## 25. テンプレートの抽出\n",
    "\n",
    "記事中に含まれる「基礎情報」テンプレートのフィールド名と値を抽出し, 辞書オブジェクトとして格納せよ."
   ]
  },
  {
   "cell_type": "markdown",
   "metadata": {},
   "source": [
    "## 26. 強調マークアップの除去\n",
    "\n",
    "[25](#25.-テンプレートの抽出)の処理時に, テンプレートの値から MediaWiki の強調マークアップ（弱い強調，強調，強い強調のすべて）を除去してテキストに変換せよ（参考: [マークアップ早見表](http://ja.wikipedia.org/wiki/Help:%E6%97%A9%E8%A6%8B%E8%A1%A8)）."
   ]
  },
  {
   "cell_type": "markdown",
   "metadata": {},
   "source": [
    "## 27. 内部リンクの除去\n",
    "\n",
    "[26](#26.-強調マークアップの除去)の処理に加えて, テンプレートの値から MediaWiki の内部リンクマークアップを除去し, テキストに変換せよ（参考: [マークアップ早見表](http://ja.wikipedia.org/wiki/Help:%E6%97%A9%E8%A6%8B%E8%A1%A8)）."
   ]
  },
  {
   "cell_type": "markdown",
   "metadata": {},
   "source": [
    "## 28. MediaWiki マークアップの除去\n",
    "\n",
    "[27](#27.-内部リンクの除去)の処理に加えて, テンプレートの値から MediaWiki マークアップを可能な限り除去し, 国の基本情報を整形せよ."
   ]
  },
  {
   "cell_type": "markdown",
   "metadata": {},
   "source": [
    "## 29. 国旗画像の URL を取得する\n",
    "\n",
    "テンプレートの内容を利用し, 国旗画像の URL を取得せよ.（ヒント: [MediaWiki API](http://www.mediawiki.org/wiki/API:Main_page/ja) の [imageinfo](http://www.mediawiki.org/wiki/API:Properties/ja#imageinfo_.2F_ii) を呼び出して, ファイル参照を URL に変換すればよい）"
   ]
  }
 ],
 "metadata": {
  "kernelspec": {
   "display_name": "Python 3",
   "language": "python",
   "name": "python3"
  },
  "language_info": {
   "codemirror_mode": {
    "name": "ipython",
    "version": 3
   },
   "file_extension": ".py",
   "mimetype": "text/x-python",
   "name": "python",
   "nbconvert_exporter": "python",
   "pygments_lexer": "ipython3",
   "version": "3.7.0b3"
  }
 },
 "nbformat": 4,
 "nbformat_minor": 2
}
