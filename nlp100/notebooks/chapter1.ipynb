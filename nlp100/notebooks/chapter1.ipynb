{
 "cells": [
  {
   "cell_type": "code",
   "execution_count": 1,
   "metadata": {},
   "outputs": [],
   "source": [
    "import random\n",
    "import warnings\n",
    "\n",
    "warnings.filterwarnings('ignore')"
   ]
  },
  {
   "cell_type": "markdown",
   "metadata": {},
   "source": [
    "# 第1章: 準備運動"
   ]
  },
  {
   "cell_type": "markdown",
   "metadata": {},
   "source": [
    "## 00. 文字列の逆順\n",
    "\n",
    "文字列 ```\"stressed\"``` の文字を逆に（末尾から先頭に向かって）並べた文字列を得よ."
   ]
  },
  {
   "cell_type": "code",
   "execution_count": 2,
   "metadata": {},
   "outputs": [
    {
     "name": "stdout",
     "output_type": "stream",
     "text": [
      "desserts\n"
     ]
    }
   ],
   "source": [
    "word = \"stressed\"\n",
    "\n",
    "print(word[::-1])"
   ]
  },
  {
   "cell_type": "markdown",
   "metadata": {},
   "source": [
    "## 01. 「パタトクカシーー」\n",
    "\n",
    "「```パタトクカシーー```」という文字列の1, 3, 5, 7文字目を取り出して連結した文字列を得よ."
   ]
  },
  {
   "cell_type": "code",
   "execution_count": 3,
   "metadata": {},
   "outputs": [
    {
     "name": "stdout",
     "output_type": "stream",
     "text": [
      "パトカー\n"
     ]
    }
   ],
   "source": [
    "word = \"パタトクカシーー\"\n",
    "\n",
    "print(word[::2])"
   ]
  },
  {
   "cell_type": "markdown",
   "metadata": {},
   "source": [
    "## 02. 「パトカー」＋「タクシー」＝「パタトクカシーー」\n",
    "\n",
    "「```パトカー```」＋「```タクシー```」の文字を先頭から交互に連結して文字列「```パタトクカシーー```」を得よ."
   ]
  },
  {
   "cell_type": "code",
   "execution_count": 4,
   "metadata": {},
   "outputs": [
    {
     "name": "stdout",
     "output_type": "stream",
     "text": [
      "パタトクカシーー\n"
     ]
    }
   ],
   "source": [
    "first, second = \"パトカー\", \"タクシー\"\n",
    "concated = [\"\" for _ in range(len(first + second))]\n",
    "concated[::2] = list(first)\n",
    "concated[1::2] = list(second)\n",
    "word = \"\".join(concated)\n",
    "\n",
    "print(word)"
   ]
  },
  {
   "cell_type": "markdown",
   "metadata": {},
   "source": [
    "## 03. 円周率\n",
    "\n",
    "```\"Now I need a drink, alcoholic of course, after the heavy lectures involving quantum mechanics.\"``` という文を単語に分解し, 各単語の（アルファベットの）文字数を先頭から出現順に並べたリストを作成せよ."
   ]
  },
  {
   "cell_type": "code",
   "execution_count": 5,
   "metadata": {},
   "outputs": [],
   "source": [
    "sent = (\"Now I need a drink, alcoholic of course, after the heavy lectures \"\n",
    "        \"involving quantum mechanics.\")\n",
    "words = [word.strip(',.') for word in sent.split(' ')]\n",
    "\n",
    "counts = [len(word) for word in words]"
   ]
  },
  {
   "cell_type": "markdown",
   "metadata": {},
   "source": [
    "## 04. 元素記号\n",
    "\n",
    "```\"Hi He Lied Because Boron Could Not Oxidize Fluorine. New Nations Might Also Sign Peace Security Clause. Arthur King Can.\"``` という文を単語に分解し, 1, 5, 6, 7, 8, 9, 15, 16, 19番目の単語は先頭の1文字, それ以外の単語は先頭に2文字を取り出し, 取り出した文字列から単語の位置（先頭から何番目の単語か）への連想配列（辞書型もしくはマップ型）を作成せよ."
   ]
  },
  {
   "cell_type": "code",
   "execution_count": 6,
   "metadata": {},
   "outputs": [
    {
     "name": "stdout",
     "output_type": "stream",
     "text": [
      "{'H': 1, 'He': 2, 'Li': 3, 'Be': 4, 'B': 5, 'C': 6, 'N': 7, 'O': 8, 'F': 9, 'Ne': 10, 'Na': 11, 'Mi': 12, 'Al': 13, 'Si': 14, 'P': 15, 'S': 16, 'Cl': 17, 'Ar': 18, 'K': 19, 'Ca': 20}\n"
     ]
    }
   ],
   "source": [
    "sent = (\"Hi He Lied Because Boron Could Not Oxidize Fluorine. \"\n",
    "        \"New Nations Might Also Sign Peace Security Clause. Arthur King Can.\")\n",
    "elems = [word.strip(',.') for word in sent.split(' ')]\n",
    "\n",
    "atomic_nums = {}\n",
    "for i, elem in enumerate(elems, 1):\n",
    "    if i in [1, 5, 6, 7, 8, 9, 15, 16, 19]:\n",
    "        atomic_nums[elem[0]] = i\n",
    "    else:\n",
    "        atomic_nums[elem[:2]] = i\n",
    "        \n",
    "print(atomic_nums)          "
   ]
  },
  {
   "cell_type": "markdown",
   "metadata": {},
   "source": [
    "## 05. n-gram\n",
    "\n",
    "与えられたシーケンス（文字列やリストなど）から n-gram を作る関数を作成せよ. この関数を用い, ```\"I am an NLPer\"``` という文から単語 bi-gram, 文字 bi-gram を得よ."
   ]
  },
  {
   "cell_type": "code",
   "execution_count": 7,
   "metadata": {},
   "outputs": [],
   "source": [
    "def get_n_gram(sent: str, n: int = 2, word_n_gram: bool = True) -> list:\n",
    "    \"\"\"Return a list of word or string n-gram.\"\"\"\n",
    "    words = [word.strip(',.') for word in sent.split(' ')]\n",
    "    n_gram = []\n",
    "    if word_n_gram:\n",
    "        num_words = len(words)\n",
    "        if num_words <= n:\n",
    "            n_gram += [words]\n",
    "        else:\n",
    "            for i in range(num_words-n+1):\n",
    "                n_gram += [words[i:i+n]]\n",
    "    else:\n",
    "        string = \"\".join(words)\n",
    "        len_string = len(string)\n",
    "        if len_string <= n:\n",
    "            n_gram += [[string]]\n",
    "        else:\n",
    "            for i in range(len_string-n+1):\n",
    "                n_gram += [string[i:i+n]]\n",
    "    return n_gram"
   ]
  },
  {
   "cell_type": "code",
   "execution_count": 8,
   "metadata": {},
   "outputs": [],
   "source": [
    "sent = \"I am an NLPer\""
   ]
  },
  {
   "cell_type": "code",
   "execution_count": 9,
   "metadata": {},
   "outputs": [
    {
     "name": "stdout",
     "output_type": "stream",
     "text": [
      "[['I', 'am'], ['am', 'an'], ['an', 'NLPer']]\n"
     ]
    }
   ],
   "source": [
    "word_bi_gram = get_n_gram(sent)\n",
    "\n",
    "print(word_bi_gram)"
   ]
  },
  {
   "cell_type": "code",
   "execution_count": 10,
   "metadata": {},
   "outputs": [
    {
     "name": "stdout",
     "output_type": "stream",
     "text": [
      "['Iam', 'ama', 'man', 'anN', 'nNL', 'NLP', 'LPe', 'Per']\n"
     ]
    }
   ],
   "source": [
    "str_bi_gram = get_n_gram(sent, n=3, word_n_gram=False)\n",
    "\n",
    "print(str_bi_gram)"
   ]
  },
  {
   "cell_type": "markdown",
   "metadata": {},
   "source": [
    "## 06. 集合\n",
    "```\"paraparaparadise\"``` と ```\"paragraph\"``` に含まれる文字 bi-gram の集合を, それぞれ, ```X``` と ```Y``` として求め, ```X``` と ```Y``` の和集合, 積集合, 差集合を求めよ. さらに, ```'se'``` という bi-gram が X および Y に含まれるかどうかを調べよ."
   ]
  },
  {
   "cell_type": "code",
   "execution_count": 11,
   "metadata": {},
   "outputs": [],
   "source": [
    "X = set(get_n_gram(\"paraparaparadise\", word_n_gram=False))\n",
    "Y = set(get_n_gram(\"paragraph\", word_n_gram=False))"
   ]
  },
  {
   "cell_type": "code",
   "execution_count": 12,
   "metadata": {},
   "outputs": [
    {
     "data": {
      "text/plain": [
       "{'ad', 'ag', 'ap', 'ar', 'di', 'gr', 'is', 'pa', 'ph', 'ra', 'se'}"
      ]
     },
     "execution_count": 12,
     "metadata": {},
     "output_type": "execute_result"
    }
   ],
   "source": [
    "X.union(Y)"
   ]
  },
  {
   "cell_type": "code",
   "execution_count": 13,
   "metadata": {},
   "outputs": [
    {
     "data": {
      "text/plain": [
       "{'ap', 'ar', 'pa', 'ra'}"
      ]
     },
     "execution_count": 13,
     "metadata": {},
     "output_type": "execute_result"
    }
   ],
   "source": [
    "X.intersection(Y)"
   ]
  },
  {
   "cell_type": "code",
   "execution_count": 14,
   "metadata": {},
   "outputs": [
    {
     "data": {
      "text/plain": [
       "{'ad', 'di', 'is', 'se'}"
      ]
     },
     "execution_count": 14,
     "metadata": {},
     "output_type": "execute_result"
    }
   ],
   "source": [
    "X.difference(Y)"
   ]
  },
  {
   "cell_type": "code",
   "execution_count": 15,
   "metadata": {},
   "outputs": [
    {
     "data": {
      "text/plain": [
       "True"
      ]
     },
     "execution_count": 15,
     "metadata": {},
     "output_type": "execute_result"
    }
   ],
   "source": [
    "'se' in X"
   ]
  },
  {
   "cell_type": "code",
   "execution_count": 16,
   "metadata": {},
   "outputs": [
    {
     "data": {
      "text/plain": [
       "False"
      ]
     },
     "execution_count": 16,
     "metadata": {},
     "output_type": "execute_result"
    }
   ],
   "source": [
    "'se' in Y"
   ]
  },
  {
   "cell_type": "markdown",
   "metadata": {},
   "source": [
    "## 07. テンプレートによる文生成\n",
    "\n",
    "引数 ```x```, ```y```, ```z``` を受け取り「```x``` 時の ```y``` は ```z```」という文字列を返す関数を実装せよ. さらに, ```x=12```, ```y=\"気温\"```, ```z=22.4``` として，実行結果を確認せよ."
   ]
  },
  {
   "cell_type": "code",
   "execution_count": 17,
   "metadata": {},
   "outputs": [],
   "source": [
    "def gen_sent(x: int, y: str, z: float) -> str:\n",
    "    \"\"\"Generate a simple template sentence.\"\"\"\n",
    "    return f\"{x}時の{y}は{z}\"    "
   ]
  },
  {
   "cell_type": "code",
   "execution_count": 18,
   "metadata": {},
   "outputs": [
    {
     "data": {
      "text/plain": [
       "'12時の気温は22.4'"
      ]
     },
     "execution_count": 18,
     "metadata": {},
     "output_type": "execute_result"
    }
   ],
   "source": [
    "gen_sent(x=12, y=\"気温\", z=22.4)"
   ]
  },
  {
   "cell_type": "markdown",
   "metadata": {},
   "source": [
    "## 08. 暗号文\n",
    "\n",
    "与えられた文字列の各文字を, 以下の仕様で変換する関数 ```cipher``` を実装せよ.\n",
    "\n",
    "- 英小文字ならば（219 - 文字コード）の文字に置換\n",
    "- その他の文字はそのまま出力\n",
    "\n",
    "この関数を用い, 英語のメッセージを暗号化・復号化せよ."
   ]
  },
  {
   "cell_type": "code",
   "execution_count": 19,
   "metadata": {},
   "outputs": [],
   "source": [
    "def cipher(sent: str) -> str:\n",
    "    \"\"\"Cipher and decipher an English message.\"\"\"\n",
    "    ciphered = []\n",
    "    chars = list(sent)\n",
    "    for char in chars:\n",
    "        if char.islower():\n",
    "            ciphered += [chr(219 - ord(char))]\n",
    "        else:\n",
    "            ciphered += [char]\n",
    "    return \"\".join(ciphered)"
   ]
  },
  {
   "cell_type": "code",
   "execution_count": 20,
   "metadata": {},
   "outputs": [
    {
     "data": {
      "text/plain": [
       "'Tlwzb rh Mlmwzb.'"
      ]
     },
     "execution_count": 20,
     "metadata": {},
     "output_type": "execute_result"
    }
   ],
   "source": [
    "cipher(\"Today is Monday.\")"
   ]
  },
  {
   "cell_type": "code",
   "execution_count": 21,
   "metadata": {},
   "outputs": [
    {
     "data": {
      "text/plain": [
       "'Today is Monday.'"
      ]
     },
     "execution_count": 21,
     "metadata": {},
     "output_type": "execute_result"
    }
   ],
   "source": [
    "cipher(\"Tlwzb rh Mlmwzb.\")"
   ]
  },
  {
   "cell_type": "markdown",
   "metadata": {},
   "source": [
    "## 09. Typoglycemia\n",
    "\n",
    "スペースで区切られた単語列に対して, 各単語の先頭と末尾の文字は残し, それ以外の文字の順序をランダムに並び替えるプログラムを作成せよ. ただし, 長さが4以下の単語は並び替えないこととする．適当な英語の文（例えば ```\"I couldn't believe that I could actually understand what I was reading : the phenomenal power of the human mind .\"```）を与え, その実行結果を確認せよ."
   ]
  },
  {
   "cell_type": "code",
   "execution_count": 22,
   "metadata": {},
   "outputs": [],
   "source": [
    "def get_typoglycemia(sent: str) -> str:\n",
    "    \"\"\"Return typoglycemia from an English sentence.\"\"\"\n",
    "    shuffled = []\n",
    "    tokens = sent.split(' ')\n",
    "    for token in tokens:\n",
    "        if len(token) > 4:\n",
    "            first, last = token[0], token[-1]\n",
    "            middle = \"\".join(random.sample(token[1:-1], len(token[1:-1])))\n",
    "            shuffled += [first + middle + last]\n",
    "        else:\n",
    "            shuffled += [token]\n",
    "    return \" \".join(shuffled)"
   ]
  },
  {
   "cell_type": "code",
   "execution_count": 23,
   "metadata": {},
   "outputs": [
    {
     "name": "stdout",
     "output_type": "stream",
     "text": [
      "I cn'dolut bveleie that I could atlualcy uesrtnnadd what I was riadneg : the pmaonenehl pwoer of the huamn mind .\n"
     ]
    }
   ],
   "source": [
    "sent_orig = \"I couldn't believe that I could actually understand what I was reading : the phenomenal power of the human mind .\"\n",
    "sent_typoglycemia = get_typoglycemia(sent_orig)\n",
    "\n",
    "print(sent_typoglycemia)"
   ]
  },
  {
   "cell_type": "code",
   "execution_count": null,
   "metadata": {},
   "outputs": [],
   "source": []
  }
 ],
 "metadata": {
  "kernelspec": {
   "display_name": "Python 3",
   "language": "python",
   "name": "python3"
  },
  "language_info": {
   "codemirror_mode": {
    "name": "ipython",
    "version": 3
   },
   "file_extension": ".py",
   "mimetype": "text/x-python",
   "name": "python",
   "nbconvert_exporter": "python",
   "pygments_lexer": "ipython3",
   "version": "3.7.0b3"
  }
 },
 "nbformat": 4,
 "nbformat_minor": 2
}
