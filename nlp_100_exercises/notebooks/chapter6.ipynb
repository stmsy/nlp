{
 "cells": [
  {
   "cell_type": "code",
   "execution_count": 1,
   "metadata": {},
   "outputs": [],
   "source": [
    "from pathlib import Path\n",
    "import re\n",
    "import warnings\n",
    "\n",
    "import CaboCha\n",
    "import matplotlib.pyplot as plt\n",
    "import numpy as np\n",
    "import pandas as pd\n",
    "import seaborn as sns\n",
    "\n",
    "from utils.jupyter.settings import DATA_DIR, get_line\n",
    "\n",
    "warnings.filterwarnings('ignore')\n",
    "\n",
    "sns.set()\n",
    "plt.rcParams['font.family'] = 'IPAPGothic'  # TO-DO: Check detail and decide to remove or not\n",
    "%matplotlib inline"
   ]
  },
  {
   "cell_type": "markdown",
   "metadata": {},
   "source": [
    "# 第6章: 英語テキストの処理\n",
    "\n",
    "英語のテキスト（[nlp.txt](http://www.cl.ecei.tohoku.ac.jp/nlp100/data/nlp.txt)）に対して, 以下の処理を実行せよ."
   ]
  },
  {
   "cell_type": "markdown",
   "metadata": {},
   "source": [
    "## 50. 文区切り\n",
    "(. or ; or : or ? or !) → 空白文字 → 英大文字というパターンを文の区切りと見なし, 入力された文書を1行1文の形式で出力せよ."
   ]
  },
  {
   "cell_type": "markdown",
   "metadata": {},
   "source": [
    "## 51. 単語の切り出し\n",
    "\n",
    "空白を単語の区切りとみなし, 50の出力を入力として受け取り, 1行1単語の形式で出力せよ. ただし, 文の終端では空行を出力せよ."
   ]
  },
  {
   "cell_type": "markdown",
   "metadata": {},
   "source": [
    "## 52. ステミング\n",
    "\n",
    "[51](#51)の出力を入力として受け取り, Porter のステミングアルゴリズムを適用し, 単語と語幹をタブ区切り形式で出力せよ. Python では, Porter のステミングアルゴリズムの実装として [stemming](https://pypi.python.org/pypi/stemming) モジュールを利用するとよい."
   ]
  },
  {
   "cell_type": "markdown",
   "metadata": {},
   "source": [
    "## 53. Tokenization\n",
    "\n",
    "[Stanford Core NLP](http://nlp.stanford.edu/software/corenlp.shtml) を用い, 入力テキストの解析結果を XML 形式で得よ. また，この XML ファイルを読み込み, 入力テキストを1行1単語の形式で出力せよ."
   ]
  },
  {
   "cell_type": "markdown",
   "metadata": {},
   "source": [
    "## 54. 品詞タグ付け\n",
    "\n",
    "Stanford Core NLP の解析結果 XML を読み込み, 単語, レンマ, 品詞をタブ区切り形式で出力せよ."
   ]
  },
  {
   "cell_type": "markdown",
   "metadata": {},
   "source": [
    "## 56. 共参照解析\n",
    "\n",
    "Stanford Core NLP の共参照解析の結果に基づき, 文中の参照表現（mention）を代表参照表現（representative mention）に置換せよ. ただし, 置換するときは, 「代表参照表現（参照表現）」のように, 元の参照表現が分かるように配慮せよ. "
   ]
  },
  {
   "cell_type": "markdown",
   "metadata": {},
   "source": [
    "## 57. 係り受け解析\n",
    "\n",
    "Stanford Core NLP の係り受け解析の結果（collapsed-dependencies）を有向グラフとして可視化せよ. 可視化には, 係り受け木を [DOT 言語](http://ja.wikipedia.org/wiki/DOT%E8%A8%80%E8%AA%9E) に変換し, [Graphviz](http://www.graphviz.org/) を用いるとよい. また, Python から有向グラフを直接的に可視化するには, [pydot](https://code.google.com/p/pydot/) を使うとよい. "
   ]
  },
  {
   "cell_type": "markdown",
   "metadata": {},
   "source": [
    "## 58. タプルの抽出\n",
    "\n",
    "Stanford Core NLP の係り受け解析の結果（collapsed-dependencies）に基づき, 「主語 述語 目的語」の組をタブ区切り形式で出力せよ. ただし, 主語, 述語, 目的語の定義は以下を参考にせよ. \n",
    "\n",
    "- 述語: nsubj 関係と dobj 関係の子（dependant）を持つ単語\n",
    "- 主語: 述語から nsubj 関係にある子（dependent）\n",
    "- 目的語: 述語から dobj 関係にある子（dependent）"
   ]
  },
  {
   "cell_type": "markdown",
   "metadata": {},
   "source": [
    "## 59. S式の解析\n",
    "\n",
    "Stanford Core NLP の句構造解析の結果（S 式）を読み込み, 文中のすべての名詞句（NP）を表示せよ. 入れ子になっている名詞句もすべて表示すること. "
   ]
  }
 ],
 "metadata": {
  "kernelspec": {
   "display_name": "Python 3",
   "language": "python",
   "name": "python3"
  },
  "language_info": {
   "codemirror_mode": {
    "name": "ipython",
    "version": 3
   },
   "file_extension": ".py",
   "mimetype": "text/x-python",
   "name": "python",
   "nbconvert_exporter": "python",
   "pygments_lexer": "ipython3",
   "version": "3.7.2"
  }
 },
 "nbformat": 4,
 "nbformat_minor": 2
}
