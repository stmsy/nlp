{
 "cells": [
  {
   "cell_type": "markdown",
   "metadata": {},
   "source": [
    "# Exercises"
   ]
  },
  {
   "cell_type": "code",
   "execution_count": 1,
   "metadata": {},
   "outputs": [
    {
     "name": "stdout",
     "output_type": "stream",
     "text": [
      "*** Introductory Examples for the NLTK Book ***\n",
      "Loading text1, ..., text9 and sent1, ..., sent9\n",
      "Type the name of the text or sentence to view it.\n",
      "Type: 'texts()' or 'sents()' to list the materials.\n",
      "text1: Moby Dick by Herman Melville 1851\n",
      "text2: Sense and Sensibility by Jane Austen 1811\n",
      "text3: The Book of Genesis\n",
      "text4: Inaugural Address Corpus\n",
      "text5: Chat Corpus\n",
      "text6: Monty Python and the Holy Grail\n",
      "text7: Wall Street Journal\n",
      "text8: Personals Corpus\n",
      "text9: The Man Who Was Thursday by G . K . Chesterton 1908\n"
     ]
    }
   ],
   "source": [
    "import matplotlib.pyplot as plt\n",
    "from nltk import ConditionalFreqDist, FreqDist\n",
    "from nltk.book import text1, text2, text3, text4, text5, text6, text7, text8, text9\n",
    "from nltk.corpus import (brown, gutenberg, names, state_union, swadesh, webtext, \n",
    "                         wordnet as wn)\n",
    "import pandas as pd\n",
    "import seaborn as sns\n",
    "\n",
    "sns.set()\n",
    "%matplotlib inline"
   ]
  },
  {
   "cell_type": "markdown",
   "metadata": {},
   "source": [
    "### 1. Create a variable ```phrase``` containing a list of words. Review the operations described in the previous chapter, including addition, multiplication, indexing, slicing, and sorting."
   ]
  },
  {
   "cell_type": "code",
   "execution_count": 2,
   "metadata": {},
   "outputs": [],
   "source": [
    "phrase = [\"Today\", \"is\", \"Monday\", \".\"]"
   ]
  },
  {
   "cell_type": "code",
   "execution_count": 3,
   "metadata": {},
   "outputs": [
    {
     "data": {
      "text/plain": [
       "['Today', 'is', 'Monday', '.', 'Today', 'is', 'Monday', '.']"
      ]
     },
     "execution_count": 3,
     "metadata": {},
     "output_type": "execute_result"
    }
   ],
   "source": [
    "phrase + phrase"
   ]
  },
  {
   "cell_type": "code",
   "execution_count": 4,
   "metadata": {},
   "outputs": [
    {
     "data": {
      "text/plain": [
       "['Today',\n",
       " 'is',\n",
       " 'Monday',\n",
       " '.',\n",
       " 'Today',\n",
       " 'is',\n",
       " 'Monday',\n",
       " '.',\n",
       " 'Today',\n",
       " 'is',\n",
       " 'Monday',\n",
       " '.']"
      ]
     },
     "execution_count": 4,
     "metadata": {},
     "output_type": "execute_result"
    }
   ],
   "source": [
    "phrase * 3"
   ]
  },
  {
   "cell_type": "code",
   "execution_count": 5,
   "metadata": {},
   "outputs": [
    {
     "data": {
      "text/plain": [
       "1"
      ]
     },
     "execution_count": 5,
     "metadata": {},
     "output_type": "execute_result"
    }
   ],
   "source": [
    "phrase.index(\"is\")"
   ]
  },
  {
   "cell_type": "code",
   "execution_count": 6,
   "metadata": {},
   "outputs": [
    {
     "data": {
      "text/plain": [
       "['is', 'Monday']"
      ]
     },
     "execution_count": 6,
     "metadata": {},
     "output_type": "execute_result"
    }
   ],
   "source": [
    "phrase[1:3]"
   ]
  },
  {
   "cell_type": "code",
   "execution_count": 7,
   "metadata": {},
   "outputs": [
    {
     "data": {
      "text/plain": [
       "['is', 'Today', 'Monday', '.']"
      ]
     },
     "execution_count": 7,
     "metadata": {},
     "output_type": "execute_result"
    }
   ],
   "source": [
    "sorted(phrase, reverse=True)"
   ]
  },
  {
   "cell_type": "markdown",
   "metadata": {},
   "source": [
    "### 2. Use the corpus module to explore ```austen-persuasion.txt```. How many word tokens does this book have? How many word types?"
   ]
  },
  {
   "cell_type": "code",
   "execution_count": 8,
   "metadata": {},
   "outputs": [],
   "source": [
    "persuasion = gutenberg.words('austen-persuasion.txt')"
   ]
  },
  {
   "cell_type": "code",
   "execution_count": 9,
   "metadata": {},
   "outputs": [
    {
     "data": {
      "text/plain": [
       "98171"
      ]
     },
     "execution_count": 9,
     "metadata": {},
     "output_type": "execute_result"
    }
   ],
   "source": [
    "len(persuasion)"
   ]
  },
  {
   "cell_type": "code",
   "execution_count": 10,
   "metadata": {},
   "outputs": [
    {
     "data": {
      "text/plain": [
       "6132"
      ]
     },
     "execution_count": 10,
     "metadata": {},
     "output_type": "execute_result"
    }
   ],
   "source": [
    "len(set(persuasion))"
   ]
  },
  {
   "cell_type": "markdown",
   "metadata": {},
   "source": [
    "### 3. Use the Brown corpus reader ```nltk.corpus.brown.words()``` or the Web text corpus reader ```nltk.corpus.webtext.words()``` to access some sample text in two different genres."
   ]
  },
  {
   "cell_type": "code",
   "execution_count": 11,
   "metadata": {},
   "outputs": [
    {
     "data": {
      "text/plain": [
       "['The', 'Fulton', 'County', 'Grand', 'Jury', 'said', ...]"
      ]
     },
     "execution_count": 11,
     "metadata": {},
     "output_type": "execute_result"
    }
   ],
   "source": [
    "brown.words(categories='news')"
   ]
  },
  {
   "cell_type": "code",
   "execution_count": 12,
   "metadata": {},
   "outputs": [
    {
     "data": {
      "text/plain": [
       "['Assembly', 'session', 'brought', 'much', 'good', ...]"
      ]
     },
     "execution_count": 12,
     "metadata": {},
     "output_type": "execute_result"
    }
   ],
   "source": [
    "brown.words(categories='editorial')"
   ]
  },
  {
   "cell_type": "code",
   "execution_count": 13,
   "metadata": {},
   "outputs": [
    {
     "data": {
      "text/plain": [
       "['firefox.txt',\n",
       " 'grail.txt',\n",
       " 'overheard.txt',\n",
       " 'pirates.txt',\n",
       " 'singles.txt',\n",
       " 'wine.txt']"
      ]
     },
     "execution_count": 13,
     "metadata": {},
     "output_type": "execute_result"
    }
   ],
   "source": [
    "webtext.fileids()"
   ]
  },
  {
   "cell_type": "code",
   "execution_count": 14,
   "metadata": {},
   "outputs": [
    {
     "data": {
      "text/plain": [
       "['Cookie', 'Manager', ':', '\"', 'Don', \"'\", 't', ...]"
      ]
     },
     "execution_count": 14,
     "metadata": {},
     "output_type": "execute_result"
    }
   ],
   "source": [
    "firefox_id = webtext.fileids()[0]\n",
    "\n",
    "webtext.words(fileids=firefox_id)"
   ]
  },
  {
   "cell_type": "code",
   "execution_count": 15,
   "metadata": {},
   "outputs": [
    {
     "data": {
      "text/plain": [
       "['Lovely', 'delicate', ',', 'fragrant', 'Rhone', ...]"
      ]
     },
     "execution_count": 15,
     "metadata": {},
     "output_type": "execute_result"
    }
   ],
   "source": [
    "wine_id = webtext.fileids()[-1]\n",
    "\n",
    "webtext.words(fileids=wine_id)"
   ]
  },
  {
   "cell_type": "markdown",
   "metadata": {},
   "source": [
    "### 4. Read in the texts of the *State of the Union* addresses, using the ```state_union``` corpus reader. Count occurrences of ```men```, ```women```, and ```people``` in each document. What has happened to the usage of these words over time?"
   ]
  },
  {
   "cell_type": "code",
   "execution_count": 16,
   "metadata": {},
   "outputs": [],
   "source": [
    "state_union_words = state_union.words()"
   ]
  },
  {
   "cell_type": "code",
   "execution_count": 17,
   "metadata": {},
   "outputs": [
    {
     "name": "stdout",
     "output_type": "stream",
     "text": [
      "men\twomen\tpeople\n",
      "2\t2\t10\n",
      "12\t7\t49\n",
      "7\t2\t12\n",
      "4\t1\t22\n",
      "2\t1\t15\n",
      "6\t2\t15\n",
      "8\t2\t9\n",
      "3\t0\t17\n",
      "2\t0\t15\n",
      "4\t0\t26\n",
      "2\t2\t30\n",
      "5\t2\t11\n",
      "2\t1\t19\n",
      "4\t1\t11\n",
      "2\t0\t10\n",
      "6\t0\t10\n",
      "6\t2\t10\n",
      "0\t0\t3\n",
      "8\t5\t12\n",
      "3\t1\t3\n",
      "7\t0\t16\n",
      "11\t3\t14\n",
      "12\t1\t35\n",
      "11\t1\t25\n",
      "4\t0\t17\n",
      "5\t2\t6\n",
      "2\t0\t23\n",
      "1\t0\t31\n",
      "1\t0\t7\n",
      "0\t0\t9\n",
      "0\t0\t19\n",
      "0\t0\t13\n",
      "3\t1\t18\n",
      "2\t1\t17\n",
      "0\t1\t26\n",
      "0\t1\t15\n",
      "1\t2\t11\n",
      "1\t1\t11\n",
      "1\t1\t17\n",
      "3\t7\t19\n",
      "3\t5\t23\n",
      "1\t1\t12\n",
      "2\t2\t14\n",
      "1\t0\t24\n",
      "1\t0\t16\n",
      "2\t3\t13\n",
      "3\t2\t9\n",
      "2\t2\t13\n",
      "7\t7\t13\n",
      "4\t4\t26\n",
      "1\t2\t45\n",
      "1\t1\t63\n",
      "1\t3\t73\n",
      "2\t3\t40\n",
      "1\t2\t30\n",
      "2\t2\t22\n",
      "2\t3\t22\n",
      "5\t6\t41\n",
      "3\t3\t14\n",
      "1\t2\t12\n",
      "3\t5\t14\n",
      "6\t4\t33\n",
      "6\t8\t21\n",
      "8\t11\t18\n",
      "7\t7\t22\n"
     ]
    }
   ],
   "source": [
    "print(\"men\", \"women\", \"people\", sep='\\t')\n",
    "for fileid in state_union.fileids():\n",
    "    fdist = FreqDist(state_union.words(fileids=fileid))\n",
    "    print(fdist[\"men\"], fdist[\"women\"], fdist[\"people\"], sep='\\t')"
   ]
  },
  {
   "cell_type": "code",
   "execution_count": 18,
   "metadata": {},
   "outputs": [],
   "source": [
    "is_ratio = False"
   ]
  },
  {
   "cell_type": "code",
   "execution_count": 19,
   "metadata": {},
   "outputs": [
    {
     "data": {
      "text/plain": [
       "<matplotlib.axes._subplots.AxesSubplot at 0x121862278>"
      ]
     },
     "execution_count": 19,
     "metadata": {},
     "output_type": "execute_result"
    },
    {
     "data": {
      "image/png": "[encoded data removed]",
      "text/plain": [
       "<Figure size 1296x720 with 1 Axes>"
      ]
     },
     "metadata": {
      "needs_background": "light"
     },
     "output_type": "display_data"
    }
   ],
   "source": [
    "df_state_union = pd.DataFrame(index=[\"men\", \"women\", \"people\"])\n",
    "\n",
    "for fileid in state_union.fileids():\n",
    "    year = fileid.split('-')[0]\n",
    "    fdist = FreqDist(state_union.words(fileids=fileid))\n",
    "    if is_ratio:\n",
    "        total = fdist[\"men\"] + fdist[\"women\"] + fdist[\"people\"]\n",
    "    else:\n",
    "        total = 1\n",
    "    df_state_union.loc[\"men\", year] = fdist[\"men\"] / total\n",
    "    df_state_union.loc[\"women\", year] = fdist[\"women\"] / total\n",
    "    df_state_union.loc[\"people\", year] = fdist[\"people\"] / total\n",
    "\n",
    "df_state_union = df_state_union.transpose()\n",
    "df_state_union.plot(kind='bar', figsize=(18,10), stacked=True, alpha=0.8)"
   ]
  },
  {
   "cell_type": "markdown",
   "metadata": {},
   "source": [
    "The usage of the words has fluctuated over time. For example, it increased from from 1990 to 1995 but decreased from 1996 to 1998. Also the usage of ```women``` is increased since 2001."
   ]
  },
  {
   "cell_type": "markdown",
   "metadata": {},
   "source": [
    "### 5. Investigate the holonym-meronym relations for some nouns. Remember that there are three kinds of holonym-meronym relation, so you need to use: ```member_meronyms()```, ```part_meronyms()```, ```substance_meronyms()```, ```member_holonyms()```, ```part_holonyms()```, and ```substance_holonyms()```."
   ]
  },
  {
   "cell_type": "code",
   "execution_count": 20,
   "metadata": {},
   "outputs": [
    {
     "data": {
      "text/plain": [
       "[Synset('car.n.01'),\n",
       " Synset('car.n.02'),\n",
       " Synset('car.n.03'),\n",
       " Synset('car.n.04'),\n",
       " Synset('cable_car.n.01')]"
      ]
     },
     "execution_count": 20,
     "metadata": {},
     "output_type": "execute_result"
    }
   ],
   "source": [
    "wn.synsets(\"car\")"
   ]
  },
  {
   "cell_type": "code",
   "execution_count": 21,
   "metadata": {},
   "outputs": [],
   "source": [
    "car = wn.synsets(\"car\")[0]"
   ]
  },
  {
   "cell_type": "code",
   "execution_count": 22,
   "metadata": {},
   "outputs": [
    {
     "data": {
      "text/plain": [
       "[]"
      ]
     },
     "execution_count": 22,
     "metadata": {},
     "output_type": "execute_result"
    }
   ],
   "source": [
    "car.member_meronyms()"
   ]
  },
  {
   "cell_type": "code",
   "execution_count": 23,
   "metadata": {},
   "outputs": [
    {
     "data": {
      "text/plain": [
       "[Synset('accelerator.n.01'),\n",
       " Synset('air_bag.n.01'),\n",
       " Synset('auto_accessory.n.01'),\n",
       " Synset('automobile_engine.n.01'),\n",
       " Synset('automobile_horn.n.01'),\n",
       " Synset('buffer.n.06'),\n",
       " Synset('bumper.n.02'),\n",
       " Synset('car_door.n.01'),\n",
       " Synset('car_mirror.n.01'),\n",
       " Synset('car_seat.n.01'),\n",
       " Synset('car_window.n.01'),\n",
       " Synset('fender.n.01'),\n",
       " Synset('first_gear.n.01'),\n",
       " Synset('floorboard.n.02'),\n",
       " Synset('gasoline_engine.n.01'),\n",
       " Synset('glove_compartment.n.01'),\n",
       " Synset('grille.n.02'),\n",
       " Synset('high_gear.n.01'),\n",
       " Synset('hood.n.09'),\n",
       " Synset('luggage_compartment.n.01'),\n",
       " Synset('rear_window.n.01'),\n",
       " Synset('reverse.n.02'),\n",
       " Synset('roof.n.02'),\n",
       " Synset('running_board.n.01'),\n",
       " Synset('stabilizer_bar.n.01'),\n",
       " Synset('sunroof.n.01'),\n",
       " Synset('tail_fin.n.02'),\n",
       " Synset('third_gear.n.01'),\n",
       " Synset('window.n.02')]"
      ]
     },
     "execution_count": 23,
     "metadata": {},
     "output_type": "execute_result"
    }
   ],
   "source": [
    "car.part_meronyms()"
   ]
  },
  {
   "cell_type": "code",
   "execution_count": 24,
   "metadata": {},
   "outputs": [
    {
     "data": {
      "text/plain": [
       "[]"
      ]
     },
     "execution_count": 24,
     "metadata": {},
     "output_type": "execute_result"
    }
   ],
   "source": [
    "car.substance_meronyms()"
   ]
  },
  {
   "cell_type": "code",
   "execution_count": 25,
   "metadata": {},
   "outputs": [
    {
     "data": {
      "text/plain": [
       "[]"
      ]
     },
     "execution_count": 25,
     "metadata": {},
     "output_type": "execute_result"
    }
   ],
   "source": [
    "car.member_holonyms()"
   ]
  },
  {
   "cell_type": "code",
   "execution_count": 26,
   "metadata": {},
   "outputs": [
    {
     "data": {
      "text/plain": [
       "[]"
      ]
     },
     "execution_count": 26,
     "metadata": {},
     "output_type": "execute_result"
    }
   ],
   "source": [
    "car.part_holonyms()"
   ]
  },
  {
   "cell_type": "code",
   "execution_count": 27,
   "metadata": {},
   "outputs": [
    {
     "data": {
      "text/plain": [
       "[]"
      ]
     },
     "execution_count": 27,
     "metadata": {},
     "output_type": "execute_result"
    }
   ],
   "source": [
    "car.substance_meronyms()"
   ]
  },
  {
   "cell_type": "code",
   "execution_count": 28,
   "metadata": {},
   "outputs": [
    {
     "data": {
      "text/plain": [
       "[Synset('accelerator.n.01'),\n",
       " Synset('accelerator.n.02'),\n",
       " Synset('catalyst.n.01'),\n",
       " Synset('accelerator.n.04')]"
      ]
     },
     "execution_count": 28,
     "metadata": {},
     "output_type": "execute_result"
    }
   ],
   "source": [
    "wn.synsets(\"accelerator\")"
   ]
  },
  {
   "cell_type": "code",
   "execution_count": 29,
   "metadata": {},
   "outputs": [],
   "source": [
    "accelerator = wn.synsets(\"accelerator\")[0]"
   ]
  },
  {
   "cell_type": "code",
   "execution_count": 30,
   "metadata": {},
   "outputs": [
    {
     "data": {
      "text/plain": [
       "[]"
      ]
     },
     "execution_count": 30,
     "metadata": {},
     "output_type": "execute_result"
    }
   ],
   "source": [
    "accelerator.member_meronyms()"
   ]
  },
  {
   "cell_type": "code",
   "execution_count": 31,
   "metadata": {},
   "outputs": [
    {
     "data": {
      "text/plain": [
       "[]"
      ]
     },
     "execution_count": 31,
     "metadata": {},
     "output_type": "execute_result"
    }
   ],
   "source": [
    "accelerator.part_meronyms()"
   ]
  },
  {
   "cell_type": "code",
   "execution_count": 32,
   "metadata": {},
   "outputs": [
    {
     "data": {
      "text/plain": [
       "[]"
      ]
     },
     "execution_count": 32,
     "metadata": {},
     "output_type": "execute_result"
    }
   ],
   "source": [
    "accelerator.substance_meronyms()"
   ]
  },
  {
   "cell_type": "code",
   "execution_count": 33,
   "metadata": {},
   "outputs": [
    {
     "data": {
      "text/plain": [
       "[]"
      ]
     },
     "execution_count": 33,
     "metadata": {},
     "output_type": "execute_result"
    }
   ],
   "source": [
    "accelerator.member_holonyms()"
   ]
  },
  {
   "cell_type": "code",
   "execution_count": 34,
   "metadata": {},
   "outputs": [
    {
     "data": {
      "text/plain": [
       "[Synset('airplane.n.01'), Synset('car.n.01')]"
      ]
     },
     "execution_count": 34,
     "metadata": {},
     "output_type": "execute_result"
    }
   ],
   "source": [
    "accelerator.part_holonyms()"
   ]
  },
  {
   "cell_type": "code",
   "execution_count": 35,
   "metadata": {},
   "outputs": [
    {
     "data": {
      "text/plain": [
       "[]"
      ]
     },
     "execution_count": 35,
     "metadata": {},
     "output_type": "execute_result"
    }
   ],
   "source": [
    "accelerator.substance_holonyms()"
   ]
  },
  {
   "cell_type": "markdown",
   "metadata": {},
   "source": [
    "### 6. In the discussion of comparative wordlists, we created an object called ```translate``` which you could look up using words in both German and Spanish in order to get corresponding words in English. What problem might arise with this approach? Can you suggest a way to avoid this problem?"
   ]
  },
  {
   "cell_type": "code",
   "execution_count": 36,
   "metadata": {},
   "outputs": [
    {
     "data": {
      "text/plain": [
       "set()"
      ]
     },
     "execution_count": 36,
     "metadata": {},
     "output_type": "execute_result"
    }
   ],
   "source": [
    "de = set(word[0] for word in swadesh.entries(['de']))\n",
    "es = set(word[0] for word in swadesh.entries(['es']))\n",
    "common_words = de.intersection(es)\n",
    "\n",
    "common_words"
   ]
  },
  {
   "cell_type": "markdown",
   "metadata": {},
   "source": [
    "If both German and Spanish share in common a word with same spelling but different meanings, then one of the corresponding English words will be lost after ```translate``` is updated. One idea to avoid this problem is as follows:"
   ]
  },
  {
   "cell_type": "code",
   "execution_count": 37,
   "metadata": {},
   "outputs": [],
   "source": [
    "translate = {}\n",
    "de2en = swadesh.entries(['de', 'en'])\n",
    "translate.update({'de': dict(de2en)})\n",
    "es2en = swadesh.entries(['es', 'en'])\n",
    "translate.update({'es': dict(es2en)})"
   ]
  },
  {
   "cell_type": "code",
   "execution_count": 38,
   "metadata": {},
   "outputs": [
    {
     "data": {
      "text/plain": [
       "'dog'"
      ]
     },
     "execution_count": 38,
     "metadata": {},
     "output_type": "execute_result"
    }
   ],
   "source": [
    "translate['de']['Hund']"
   ]
  },
  {
   "cell_type": "code",
   "execution_count": 39,
   "metadata": {},
   "outputs": [
    {
     "data": {
      "text/plain": [
       "'dog'"
      ]
     },
     "execution_count": 39,
     "metadata": {},
     "output_type": "execute_result"
    }
   ],
   "source": [
    "translate['es']['perro']"
   ]
  },
  {
   "cell_type": "markdown",
   "metadata": {},
   "source": [
    "### 7. According to Strunk and White's *Elements of Style*, the word *however*, used at the start of a sentence, means \"in whatever way\" or \"to whatever extent\", and not \"nevertheless\". They give this example of correct usage: *However you advise him, he will probably do as he thinks best*. (http://www.bartleby.com/141/strunk3.html) Use the concordance tool to study actual usage of this word in the various texts we have been considering. See also the *LanguageLog* posting \"Fossilized prejudices about 'however'\" at http://itre.cis.upenn.edu/~myl/languagelog/archives/001913.html"
   ]
  },
  {
   "cell_type": "code",
   "execution_count": 40,
   "metadata": {},
   "outputs": [
    {
     "name": "stdout",
     "output_type": "stream",
     "text": [
      "Displaying 25 of 95 matches:\n",
      "gledy - piggledy whale statements , however authentic , in these extracts , for\n",
      "lave ? Tell me that . Well , then , however the old sea - captains may order me\n",
      "ea - captains may order me about -- however they may thump and punch me about ,\n",
      " needs be the sign of \" The Trap .\" However , I picked myself up and hearing a \n",
      " the conclusion that such an idea , however wild , might not be altogether unwa\n",
      " most obstreperously . I observed , however , that one of them held somewhat al\n",
      "ade on the sea . In a few minutes , however , he was missed by his shipmates , \n",
      "bag ' s mouth . This accomplished , however , he turned round -- when , good he\n",
      "te man into a purplish yellow one . However , I had never been in the South Sea\n",
      "tle in the matter of my bedfellow . However , a good laugh is a mighty good thi\n",
      "ight of the water it had absorbed . However , hat and coat and overshoes were o\n",
      "pulpit , it had not escaped me that however convenient for a ship , these joint\n",
      "lf baptized again . For the nonce , however , he proposed to sail about , and s\n",
      " own and comrade ' s bill ; using , however , my comrade ' s money . The grinni\n",
      "in to say it was on the starboard . However , by dint of beating about a little\n",
      "a supper for us both on one clam ?\" However , a warm savory steam from the kitc\n",
      " owners till all is ready for sea . However , it is always as well to have a lo\n",
      "fectly as he was known to me then . However , my thoughts were at length carrie\n",
      " I got down our traps , resolving , however , to sleep ashore till the last . B\n",
      " em !\" \" No need of profane words , however great the hurry , Peleg ,\" said Bil\n",
      "a pilot . I was comforting myself , however , with the thought that in pious Bi\n",
      "isely -- who knows ? Certain I am , however , that a king ' s head is solemnly \n",
      "o scientific description . As yet , however , the sperm whale , scientific or p\n",
      "IZONTAL TAIL . There you have him . However contracted , that definition is the\n",
      "several varieties , most of which , however , are little known . Broad - nosed \n"
     ]
    }
   ],
   "source": [
    "text1.concordance('however')"
   ]
  },
  {
   "cell_type": "code",
   "execution_count": 41,
   "metadata": {},
   "outputs": [
    {
     "name": "stdout",
     "output_type": "stream",
     "text": [
      "Displaying 25 of 155 matches:\n",
      "hters . He meant not to be unkind , however , and , as a mark of his affection \n",
      "e condition of visitors . As such , however , they were treated by her with qui\n",
      "le .\" His wife hesitated a little , however , in giving her consent to this pla\n",
      "urned Mrs . John Dashwood . \" But , however , ONE thing must be considered . Wh\n",
      " can ever afford to live in . But , however , so it is . Your father thought on\n",
      "ce inquiry or remark . Conversation however was not wanted , for Sir John was v\n",
      "sary to the happiness of both ; for however dissimilar in temper and outward be\n",
      "al engagements at home and abroad , however , supplied all the deficiencies of \n",
      "s silent and grave . His appearance however was not unpleasing , in spite of hi\n",
      "n their own house . One consolation however remained for them , to which the ex\n",
      " in the country ? That is good news however ; I will ride over tomorrow , and a\n",
      " ever so rich . I am glad to find , however , from what you say , that he is a \n",
      "t to the excellence of such works , however disregarded before . Their taste wa\n",
      "ly excited by her sister ; and that however a general resemblance of dispositio\n",
      "d Marianne . \" Do not boast of it , however ,\" said Elinor , \" for it is injust\n",
      "t will be any satisfaction to you , however , to be told , that I believe his c\n",
      "wo wives , I know not . A few years however will settle her opinions on the rea\n",
      "n his side impossible . His concern however was very apparent ; and after expre\n",
      "d her husband and mother . The idea however started by her , was immediately pu\n",
      " are determined on anything . But , however , I hope you will think better of i\n",
      " I can guess what his business is , however ,\" said Mrs . Jennings exultingly .\n",
      "o unfortunate an event ; concluding however by observing , that as they were al\n",
      "r . Willoughby .\" \" Mr . Willoughby however is the only person who can have a r\n",
      "sed in him . There is great truth , however , in what you have now urged of the\n",
      "iced by him .\" \" Do not blame him , however , for departing from his character \n"
     ]
    }
   ],
   "source": [
    "text2.concordance('however')"
   ]
  },
  {
   "cell_type": "code",
   "execution_count": 42,
   "metadata": {},
   "outputs": [
    {
     "name": "stdout",
     "output_type": "stream",
     "text": [
      "no matches\n"
     ]
    }
   ],
   "source": [
    "text3.concordance('however')"
   ]
  },
  {
   "cell_type": "code",
   "execution_count": 43,
   "metadata": {},
   "outputs": [
    {
     "name": "stdout",
     "output_type": "stream",
     "text": [
      "Displaying 25 of 54 matches:\n",
      " this extensive country . Relying , however , on the purity of their intentions\n",
      "t become me here to speak . I may , however , be pardoned for not suppressing t\n",
      " accord in all questions touching , however remotely , the liberty , prosperity\n",
      "its overthrow . These occurrences , however , have been far less frequent in ou\n",
      "s and promises made in the former . However much the world may have improved in\n",
      "ered with the intention to betray . However strong may be my present purpose to\n",
      "e citizen . As was to be expected , however , from the defect of language and t\n",
      "lation to the latter also . It is , however , consolatory to reflect that most \n",
      "the States to its correction . As , however , one mode of correction is in the \n",
      "e our system . It may be observed , however , as a general remark , that republ\n",
      "ome others of a similar character , however , it appears to be highly expedient\n",
      "he judiciary to declare void ; that however enlightened and patriotic they migh\n",
      " members of Congress might be , and however largely partaking , in the general \n",
      "ur parent isle . There are others , however , which can not be introduced in ou\n",
      "of making it exclusively metallic , however well intended , appears to me to be\n",
      " any distinct lines . Mischievous , however , in their tendencies as collisions\n",
      "of propriety . It may be observed , however , that organized associations of ci\n",
      "ed the institutions of each other , however repugnant to their own principles a\n",
      "culty in their financial concerns . However deeply we may regret anything impru\n",
      "estic concerns . It may be proper , however , that I should give some indicatio\n",
      "dy is with the people . Something , however , may be effected by the means whic\n",
      "earful responsibilities . Happily , however , in the performance of my new duti\n",
      "l congratulation . At that moment , however , when the agitation consequent upo\n",
      " that event no form of government , however admirable in itself and however pro\n",
      "t , however admirable in itself and however productive of material benefits , c\n"
     ]
    }
   ],
   "source": [
    "text4.concordance('however')"
   ]
  },
  {
   "cell_type": "code",
   "execution_count": 44,
   "metadata": {},
   "outputs": [
    {
     "name": "stdout",
     "output_type": "stream",
     "text": [
      "Displaying 1 of 1 matches:\n",
      "a sensitive matter of inheritance ; however , remain vigilant and even distrust\n"
     ]
    }
   ],
   "source": [
    "text5.concordance('however')"
   ]
  },
  {
   "cell_type": "code",
   "execution_count": 45,
   "metadata": {},
   "outputs": [
    {
     "name": "stdout",
     "output_type": "stream",
     "text": [
      "no matches\n"
     ]
    }
   ],
   "source": [
    "text6.concordance('however')"
   ]
  },
  {
   "cell_type": "code",
   "execution_count": 46,
   "metadata": {},
   "outputs": [
    {
     "name": "stdout",
     "output_type": "stream",
     "text": [
      "Displaying 25 of 35 matches:\n",
      "s , such as telephones or watches . However , none of the big three weeklies re\n",
      "ther intellectual-property rights . However , five other countries -- China , T\n",
      "to be sold *-50 in the U.S. *T*-1 . However , after two meetings with the Sovie\n",
      "clining . The purchasing managers , however , also said that orders turned up i\n",
      " of worries about potential abuse , however , he says 0 the state will begin *-\n",
      "ll game . '' Some fellow teachers , however , viewed Mrs. Yeargin as cocky and \n",
      "ssary . '' He declined *-2 to say , however , how much Sea Containers might rai\n",
      "e going *-3 to top us . '' Temple , however , harshly criticized Sea Containers\n",
      "a bottle . In the last year or so , however , this exclusive club has taken in \n",
      ". These prices seem rather modest , however , in light of other French wines fr\n",
      "ons can steal a march on Burgundy , however . The six wines of the Domaine de l\n",
      "it would study other alternatives . However , it has n't yet made any proposals\n",
      "t of high-yield subordinated debt . However , the junk-bond market has collapse\n",
      "T*-227 usually stays in the tower , however . More often than not , ringers thi\n",
      "y are n't accepted *-1 everywhere , however . The oldest bell-ringing group in \n",
      "on Wednesday . There are no signs , however , of China 's yielding on key issue\n",
      " York . A spokesman for the state , however , calls the idea `` not effective o\n",
      "e considerable skill * to resolve . However , neither Mr. Baum nor Mr. Harper h\n",
      "sly give the president such power . However , the president does have a duty * \n",
      "r. Riese says 0 *T*-1 . Until now , however , buyers who *T*-53 wanted *-1 to f\n",
      " all this *-2 lying down for long , however . Its new products and trading tech\n",
      "ock-selection products . They may , however , risk *-1 bringing some damaging i\n",
      "nment or private watchdogs insist , however , on * introducing greater friction\n",
      "rm 's equity . '' CS First Boston , however , benefits from the backing of its \n",
      " the defendants . The big problem , however , is that there 's no guarantee tha\n"
     ]
    }
   ],
   "source": [
    "text7.concordance('however')"
   ]
  },
  {
   "cell_type": "code",
   "execution_count": 47,
   "metadata": {},
   "outputs": [
    {
     "name": "stdout",
     "output_type": "stream",
     "text": [
      "no matches\n"
     ]
    }
   ],
   "source": [
    "text8.concordance('however')"
   ]
  },
  {
   "cell_type": "code",
   "execution_count": 48,
   "metadata": {},
   "outputs": [
    {
     "name": "stdout",
     "output_type": "stream",
     "text": [
      "Displaying 25 of 27 matches:\n",
      "m within this almost saintly oval , however , his face projected suddenly broad\n",
      "ttle man with the black beard was , however , still contracted with something l\n",
      "rd . By the sheer rush of routine , however , the motion would have been put an\n",
      "retary said -- \" We are wandering , however , from the point . The only questio\n",
      " wax lady in evening dress . Snow , however , began to thicken and fall fast ; \n",
      "y or trance . He was not inclined , however , to feel in this case any very com\n",
      ". Somewhere behind Red Lion Court , however , he noticed a place where some ene\n",
      "ouched his milk . One possibility , however , kept him hopeful and yet helpless\n",
      "his satellites , that their faces , however fierce or sinister , became gradual\n",
      "ow . Before I could fully recover , however , two or three of these admirers ra\n",
      "cks during the conversation , which however unobtrusively performed --\" \" Syme \n",
      " simplicity , \" go to bed !\" Syme , however , sat up in bed for a considerable \n",
      ", if we are to act on it . I will , however , relate the occurrence in detail ,\n",
      "rst considerable hurt . Dr . Bull , however , having been carefully coached by \n",
      " . At the end of the four minutes , however , they saw that the Colonel was rig\n",
      " of Attila . Swiftly as they rode , however , the whole rank still kept well to\n",
      "he had three motor - cars . These , however , he seemed to use very sparingly ,\n",
      " the hostility of the place . Now , however , the windows in the houses began o\n",
      ", \" might even call it unpleasant . However , I suppose those lights out in the\n",
      "h the pier . Two or three figures , however , stood on the beginning of the sto\n",
      "ondon . Twenty minutes afterwards , however , he came back and made quite a cla\n",
      "d not see . Before the three cabs , however , could reach up to the spot , he h\n",
      " before they came to Baker Street , however , he was seen to throw something fa\n",
      "e a bulky parcel . On examination , however , its bulk was found to consist of \n",
      "eation of the sun and moon . Here , however , they reckoned from a Christian Su\n"
     ]
    }
   ],
   "source": [
    "text9.concordance('however')"
   ]
  },
  {
   "cell_type": "markdown",
   "metadata": {},
   "source": [
    "### 8. Define a conditional frequency distribution over the Names corpus that allows you to see which *initial* letters are more frequent for males vs. females (cf. [4.4](https://www.nltk.org/book/ch02.html#fig-cfd-gender))."
   ]
  },
  {
   "cell_type": "code",
   "execution_count": 49,
   "metadata": {},
   "outputs": [
    {
     "data": {
      "image/png": "[encoded data removed]",
      "text/plain": [
       "<Figure size 1296x720 with 1 Axes>"
      ]
     },
     "metadata": {
      "needs_background": "light"
     },
     "output_type": "display_data"
    }
   ],
   "source": [
    "plt.figure(figsize=(18,10))\n",
    "cfd = ConditionalFreqDist((fileid.split('.')[0], name[0]) \n",
    "                          for fileid in names.fileids() \n",
    "                          for name in names.words(fileid))\n",
    "cfd.plot()"
   ]
  },
  {
   "cell_type": "markdown",
   "metadata": {},
   "source": [
    "### 9. Pick a pair of texts and study the differences between them, in terms of vocabulary, vocabulary richness, genre, etc. Can you find pairs of words which have quite different meanings across the two texts, such as *monstrous* in *Moby Dick* and in *Sense and Sensibility*?\n"
   ]
  },
  {
   "cell_type": "markdown",
   "metadata": {},
   "source": [
    "### 10. Read the BBC News article: *UK's Vicky Pollards 'left behind'* http://news.bbc.co.uk/1/hi/education/6173441.stm. The article gives the following statistic about teen language: \"the top 20 words used, including yeah, no, but and like, account for around a third of all words.\" How many word types account for a third of all word tokens, for a variety of text sources? What do you conclude about this statistic? Read more about this on *LanguageLog*, at http://itre.cis.upenn.edu/~myl/languagelog/archives/003993.html."
   ]
  },
  {
   "cell_type": "markdown",
   "metadata": {},
   "source": [
    "### 11. Investigate the table of modal distributions and look for other patterns. Try to explain them in terms of your own impressionistic understanding of the different genres. Can you find other closed classes of words that exhibit significant differences across different genres?"
   ]
  },
  {
   "cell_type": "markdown",
   "metadata": {},
   "source": [
    "### 12. The CMU Pronouncing Dictionary contains multiple pronunciations for certain words. How many distinct words does it contain? What fraction of words in this dictionary have more than one possible pronunciation?"
   ]
  },
  {
   "cell_type": "markdown",
   "metadata": {},
   "source": [
    "### 13. What percentage of noun synsets have no hyponyms? You can get all noun synsets using ```wn.all_synsets('n')```."
   ]
  },
  {
   "cell_type": "markdown",
   "metadata": {},
   "source": [
    "### 14. Define a function ```supergloss(s)``` that takes a synset ```s``` as its argument and returns a string consisting of the concatenation of the definition of ```s```, and the definitions of all the hypernyms and hyponyms of ```s```."
   ]
  },
  {
   "cell_type": "markdown",
   "metadata": {},
   "source": [
    "### 15. Write a program to find all words that occur at least three times in the Brown Corpus."
   ]
  },
  {
   "cell_type": "markdown",
   "metadata": {},
   "source": [
    "### 16. Write a program to generate a table of lexical diversity scores (i.e. token/type ratios), as we saw in [1.1](https://www.nltk.org/book/ch01.html#tab-brown-types). Include the full set of Brown Corpus genres (```nltk.corpus.brown.categories()```). Which genre has the lowest diversity (greatest number of tokens per type)? Is this what you would have expected?"
   ]
  },
  {
   "cell_type": "markdown",
   "metadata": {},
   "source": [
    "### 17. Write a function that finds the 50 most frequently occurring words of a text that are not stopwords."
   ]
  },
  {
   "cell_type": "markdown",
   "metadata": {},
   "source": [
    "### 18. Write a program to print the 50 most frequent bigrams (pairs of adjacent words) of a text, omitting bigrams that contain stopwords."
   ]
  },
  {
   "cell_type": "markdown",
   "metadata": {},
   "source": [
    "### 19. Write a program to create a table of word frequencies by genre, like the one given in 1 for modals. Choose your own words and try to find words whose presence (or absence) is typical of a genre. Discuss your findings."
   ]
  },
  {
   "cell_type": "markdown",
   "metadata": {},
   "source": [
    "### 20. Write a function ```word_freq()``` that takes a word and the name of a section of the Brown Corpus as arguments, and computes the frequency of the word in that section of the corpus."
   ]
  }
 ],
 "metadata": {
  "kernelspec": {
   "display_name": "Python 3",
   "language": "python",
   "name": "python3"
  },
  "language_info": {
   "codemirror_mode": {
    "name": "ipython",
    "version": 3
   },
   "file_extension": ".py",
   "mimetype": "text/x-python",
   "name": "python",
   "nbconvert_exporter": "python",
   "pygments_lexer": "ipython3",
   "version": "3.7.2"
  }
 },
 "nbformat": 4,
 "nbformat_minor": 2
}
